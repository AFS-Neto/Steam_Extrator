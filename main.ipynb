{
 "cells": [
  {
   "cell_type": "code",
   "execution_count": 54,
   "id": "22ac0aa9",
   "metadata": {},
   "outputs": [],
   "source": [
    "import pandas as pd\n",
    "import requests\n",
    "from datetime import datetime\n"
   ]
  },
  {
   "cell_type": "code",
   "execution_count": 63,
   "id": "9daca802",
   "metadata": {},
   "outputs": [
    {
     "name": "stdout",
     "output_type": "stream",
     "text": [
      "Fetching user info from http://api.steampowered.com/ISteamUser/GetPlayerSummaries/v0002/?key=B6E8D53810F1E5F4A9C174D597C5DF37&steamids=76561199490364483\n",
      "Connection successful, status code: 200\n"
     ]
    }
   ],
   "source": [
    "API_KEY = 'B6E8D53810F1E5F4A9C174D597C5DF37'\n",
    "steam_user_id = '76561199490364483'\n",
    "\n",
    "user_info_url = f'http://api.steampowered.com/ISteamUser/GetPlayerSummaries/v0002/?key={API_KEY}&steamids={steam_user_id}'\n",
    "print(f'Fetching user info from {user_info_url}')\n",
    "\n",
    "response = requests.get(user_info_url)\n",
    "\n",
    "if response.status_code != 200:\n",
    "    print(f'Bad response from API: {response.status_code}')\n",
    "else:\n",
    "    print(f'Connection successful, status code: {response.status_code}')\n",
    "\n",
    "json_user_info = response.json()\n",
    "\n",
    "#json_user_info"
   ]
  },
  {
   "cell_type": "code",
   "execution_count": 64,
   "id": "ea421a06",
   "metadata": {},
   "outputs": [
    {
     "name": "stdout",
     "output_type": "stream",
     "text": [
      "steamid                             object\n",
      "communityvisibilitystate             int64\n",
      "profilestate                         int64\n",
      "avatarhash                          object\n",
      "personaname                         object\n",
      "profileurl                          object\n",
      "timecreated                 datetime64[us]\n",
      "lastlogoff                  datetime64[us]\n",
      "loccountrycode                      object\n",
      "avatarmedium                        object\n",
      "dtype: object\n"
     ]
    },
    {
     "data": {
      "text/html": [
       "<div>\n",
       "<style scoped>\n",
       "    .dataframe tbody tr th:only-of-type {\n",
       "        vertical-align: middle;\n",
       "    }\n",
       "\n",
       "    .dataframe tbody tr th {\n",
       "        vertical-align: top;\n",
       "    }\n",
       "\n",
       "    .dataframe thead th {\n",
       "        text-align: right;\n",
       "    }\n",
       "</style>\n",
       "<table border=\"1\" class=\"dataframe\">\n",
       "  <thead>\n",
       "    <tr style=\"text-align: right;\">\n",
       "      <th></th>\n",
       "      <th>steamid</th>\n",
       "      <th>communityvisibilitystate</th>\n",
       "      <th>profilestate</th>\n",
       "      <th>avatarhash</th>\n",
       "      <th>personaname</th>\n",
       "      <th>profileurl</th>\n",
       "      <th>timecreated</th>\n",
       "      <th>lastlogoff</th>\n",
       "      <th>loccountrycode</th>\n",
       "      <th>avatarmedium</th>\n",
       "    </tr>\n",
       "  </thead>\n",
       "  <tbody>\n",
       "    <tr>\n",
       "      <th>0</th>\n",
       "      <td>76561199490364483</td>\n",
       "      <td>3</td>\n",
       "      <td>1</td>\n",
       "      <td>97caee00eb9e2fd9f78eaf034b7f9f4d2fd9210d</td>\n",
       "      <td>@FSN</td>\n",
       "      <td>https://steamcommunity.com/profiles/7656119949...</td>\n",
       "      <td>2023-03-28 21:38:09</td>\n",
       "      <td>2025-06-09 14:30:22</td>\n",
       "      <td>BR</td>\n",
       "      <td>https://avatars.steamstatic.com/97caee00eb9e2f...</td>\n",
       "    </tr>\n",
       "  </tbody>\n",
       "</table>\n",
       "</div>"
      ],
      "text/plain": [
       "             steamid  communityvisibilitystate  profilestate  \\\n",
       "0  76561199490364483                         3             1   \n",
       "\n",
       "                                 avatarhash personaname  \\\n",
       "0  97caee00eb9e2fd9f78eaf034b7f9f4d2fd9210d        @FSN   \n",
       "\n",
       "                                          profileurl         timecreated  \\\n",
       "0  https://steamcommunity.com/profiles/7656119949... 2023-03-28 21:38:09   \n",
       "\n",
       "           lastlogoff loccountrycode  \\\n",
       "0 2025-06-09 14:30:22             BR   \n",
       "\n",
       "                                        avatarmedium  \n",
       "0  https://avatars.steamstatic.com/97caee00eb9e2f...  "
      ]
     },
     "execution_count": 64,
     "metadata": {},
     "output_type": "execute_result"
    }
   ],
   "source": [
    "players_info = json_user_info.get('response').get('players')[0]\n",
    "df_steam_user = pd.DataFrame([players_info])\n",
    "\n",
    "df_user_drop = df_steam_user.drop(columns=['avatar', 'avatarfull', 'locstatecode', 'loccityid'])\n",
    "\n",
    "df_user_final = pd.DataFrame(\n",
    "    {\n",
    "    'steamid': df_user_drop['steamid'],\n",
    "    'communityvisibilitystate': df_user_drop['communityvisibilitystate'],\n",
    "    'profilestate': df_user_drop['profilestate'],\n",
    "    'avatarhash': df_user_drop['avatarhash'],\n",
    "    'personaname': df_user_drop['personaname'],\n",
    "    'profileurl': df_user_drop['profileurl'],\n",
    "    'timecreated': datetime.fromtimestamp(int(df_user_drop['timecreated'].iloc[0])),\n",
    "    'lastlogoff': datetime.fromtimestamp(int(df_user_drop['lastlogoff'].iloc[0])),\n",
    "    'loccountrycode': df_user_drop['loccountrycode'],\n",
    "    'avatarmedium': df_user_drop['avatarmedium']\n",
    "    }\n",
    ")\n",
    "\n",
    "\n",
    "print(df_user_final.dtypes)\n",
    "\n",
    "df_user_final.head()\n",
    "\n"
   ]
  }
 ],
 "metadata": {
  "kernelspec": {
   "display_name": "Python 3",
   "language": "python",
   "name": "python3"
  },
  "language_info": {
   "codemirror_mode": {
    "name": "ipython",
    "version": 3
   },
   "file_extension": ".py",
   "mimetype": "text/x-python",
   "name": "python",
   "nbconvert_exporter": "python",
   "pygments_lexer": "ipython3",
   "version": "3.12.4"
  }
 },
 "nbformat": 4,
 "nbformat_minor": 5
}
